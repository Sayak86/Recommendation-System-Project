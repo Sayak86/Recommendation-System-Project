{
 "cells": [
  {
   "cell_type": "code",
   "execution_count": 2,
   "metadata": {
    "executionInfo": {
     "elapsed": 5242,
     "status": "ok",
     "timestamp": 1737619644784,
     "user": {
      "displayName": "sayak bhattacharjee",
      "userId": "03868719646604840788"
     },
     "user_tz": -330
    },
    "id": "Ee6JmIoiq6OH"
   },
   "outputs": [],
   "source": [
    "# Import the libraries\n",
    "import numpy as np\n",
    "import matplotlib.pyplot as plt\n",
    "import pandas as pd\n",
    "from sklearn.model_selection import train_test_split"
   ]
  },
  {
   "cell_type": "code",
   "execution_count": null,
   "metadata": {
    "colab": {
     "base_uri": "https://localhost:8080/"
    },
    "executionInfo": {
     "elapsed": 68134,
     "status": "ok",
     "timestamp": 1737646662754,
     "user": {
      "displayName": "sayak bhattacharjee",
      "userId": "03868719646604840788"
     },
     "user_tz": -330
    },
    "id": "ImOs_sih6mfT",
    "outputId": "463e50ca-574a-4457-933d-7508dd788e44"
   },
   "outputs": [],
   "source": [
    "from google.colab import drive\n",
    "drive.mount('/content/drive')"
   ]
  },
  {
   "cell_type": "code",
   "execution_count": null,
   "metadata": {
    "colab": {
     "base_uri": "https://localhost:8080/"
    },
    "executionInfo": {
     "elapsed": 706,
     "status": "ok",
     "timestamp": 1737619649886,
     "user": {
      "displayName": "sayak bhattacharjee",
      "userId": "03868719646604840788"
     },
     "user_tz": -330
    },
    "id": "BFGOsbnRq6OV",
    "outputId": "963b7c0d-d8d4-440e-a278-aa5ecdd76bf1"
   },
   "outputs": [],
   "source": [
    "# Load the csv file\n",
    "review_reco = pd.read_csv('/content/drive/MyDrive/Recommendation System Project/sample30.csv')\n",
    "review_reco.shape\n"
   ]
  },
  {
   "cell_type": "code",
   "execution_count": null,
   "metadata": {
    "colab": {
     "base_uri": "https://localhost:8080/"
    },
    "executionInfo": {
     "elapsed": 17,
     "status": "ok",
     "timestamp": 1737619649887,
     "user": {
      "displayName": "sayak bhattacharjee",
      "userId": "03868719646604840788"
     },
     "user_tz": -330
    },
    "id": "g_rquSBBq6OZ",
    "outputId": "8c8e8f40-e7fd-4eb1-c620-672bc5da6ff5"
   },
   "outputs": [],
   "source": [
    "# Print the columns\n",
    "review_reco.columns"
   ]
  },
  {
   "cell_type": "code",
   "execution_count": null,
   "metadata": {
    "colab": {
     "base_uri": "https://localhost:8080/",
     "height": 554
    },
    "executionInfo": {
     "elapsed": 417,
     "status": "ok",
     "timestamp": 1737619650297,
     "user": {
      "displayName": "sayak bhattacharjee",
      "userId": "03868719646604840788"
     },
     "user_tz": -330
    },
    "id": "IY0LnMVuq6Ob",
    "outputId": "8fdc9537-b781-4081-def6-cf0665fd6338"
   },
   "outputs": [],
   "source": [
    "# Check for missing values\n",
    "\n",
    "review_reco.isnull().sum()"
   ]
  },
  {
   "cell_type": "code",
   "execution_count": null,
   "metadata": {
    "colab": {
     "base_uri": "https://localhost:8080/"
    },
    "executionInfo": {
     "elapsed": 13,
     "status": "ok",
     "timestamp": 1737619650297,
     "user": {
      "displayName": "sayak bhattacharjee",
      "userId": "03868719646604840788"
     },
     "user_tz": -330
    },
    "id": "lg3f0WSqq6Od",
    "outputId": "881cc8b0-d331-4e8c-db4a-35099e423b6c"
   },
   "outputs": [],
   "source": [
    "# Drop the missing values for reviews_username\n",
    "review_reco = review_reco.dropna(subset=['reviews_username'])\n",
    "review_reco.shape\n"
   ]
  },
  {
   "cell_type": "code",
   "execution_count": null,
   "metadata": {
    "colab": {
     "base_uri": "https://localhost:8080/"
    },
    "executionInfo": {
     "elapsed": 11,
     "status": "ok",
     "timestamp": 1737619650298,
     "user": {
      "displayName": "sayak bhattacharjee",
      "userId": "03868719646604840788"
     },
     "user_tz": -330
    },
    "id": "6aMipdeQq6Of",
    "outputId": "52c96913-5e93-4753-d7ff-514000f2b466"
   },
   "outputs": [],
   "source": [
    "# Divide the data into train and test\n",
    "\n",
    "train, test = train_test_split(review_reco, test_size=0.30, random_state=31)\n",
    "print(train.shape)\n",
    "print(test.shape)\n"
   ]
  },
  {
   "cell_type": "markdown",
   "metadata": {
    "id": "I3QtJ268q6Og"
   },
   "source": [
    "### User and User recommedation system"
   ]
  },
  {
   "cell_type": "code",
   "execution_count": 9,
   "metadata": {
    "executionInfo": {
     "elapsed": 8,
     "status": "ok",
     "timestamp": 1737619650298,
     "user": {
      "displayName": "sayak bhattacharjee",
      "userId": "03868719646604840788"
     },
     "user_tz": -330
    },
    "id": "g3WGcUpiq6Om"
   },
   "outputs": [],
   "source": [
    "# Create a matrix of reviews where the rows are the users and the columns are the products and the values are the ratings\n",
    "df_pivot = train.pivot_table(\n",
    "    index='reviews_username',\n",
    "    columns='id',\n",
    "    values='reviews_rating'\n",
    ").fillna(0)"
   ]
  },
  {
   "cell_type": "code",
   "execution_count": null,
   "metadata": {
    "colab": {
     "base_uri": "https://localhost:8080/",
     "height": 478
    },
    "executionInfo": {
     "elapsed": 423,
     "status": "ok",
     "timestamp": 1737619650714,
     "user": {
      "displayName": "sayak bhattacharjee",
      "userId": "03868719646604840788"
     },
     "user_tz": -330
    },
    "id": "jYW9V4FOq6Oo",
    "outputId": "aab66b83-3f7c-4faf-e6bd-7a5021febd63"
   },
   "outputs": [],
   "source": [
    "df_pivot.sample(10)"
   ]
  },
  {
   "cell_type": "markdown",
   "metadata": {
    "id": "YSJWyhgrq6Oq"
   },
   "source": [
    "#### Creating dummy train & dummy test dataset\n",
    "These dataset will be used for prediction\n",
    "- Dummy train will be used later for prediction of the movies which has not been rated by the user. To ignore the movies rated by the user, we will mark it as 0 during prediction. The movies not rated by user is marked as 1 for prediction in dummy train dataset.\n",
    "\n",
    "- Dummy test will be used for evaluation. To evaluate, we will only make prediction on the movies rated by the user. So, this is marked as 1. This is just opposite of dummy_train."
   ]
  },
  {
   "cell_type": "code",
   "execution_count": 11,
   "metadata": {
    "executionInfo": {
     "elapsed": 12,
     "status": "ok",
     "timestamp": 1737619650714,
     "user": {
      "displayName": "sayak bhattacharjee",
      "userId": "03868719646604840788"
     },
     "user_tz": -330
    },
    "id": "hDIZpSfcq6Or"
   },
   "outputs": [],
   "source": [
    "# Copy the train dataset into dummy_train\n",
    "dummy_train = train.copy()"
   ]
  },
  {
   "cell_type": "code",
   "execution_count": 12,
   "metadata": {
    "executionInfo": {
     "elapsed": 13,
     "status": "ok",
     "timestamp": 1737619650715,
     "user": {
      "displayName": "sayak bhattacharjee",
      "userId": "03868719646604840788"
     },
     "user_tz": -330
    },
    "id": "lhanMKkYq6Os"
   },
   "outputs": [],
   "source": [
    "# The products not rated by user is marked as 1 for prediction.\n",
    "dummy_train['reviews_rating'] = dummy_train['reviews_rating'].apply(lambda x: 0 if x>=1 else 1)\n"
   ]
  },
  {
   "cell_type": "code",
   "execution_count": null,
   "metadata": {
    "colab": {
     "base_uri": "https://localhost:8080/",
     "height": 259
    },
    "executionInfo": {
     "elapsed": 12,
     "status": "ok",
     "timestamp": 1737619650715,
     "user": {
      "displayName": "sayak bhattacharjee",
      "userId": "03868719646604840788"
     },
     "user_tz": -330
    },
    "id": "oeAH3M8Nq6Ot",
    "outputId": "3fdb6fb6-ca60-41ff-a040-43d935eda8cf"
   },
   "outputs": [],
   "source": [
    "# Convert the dummy train dataset into matrix format\n",
    "\n",
    "dummy_train = dummy_train.pivot_table(\n",
    "    index='reviews_username',\n",
    "    columns='id',\n",
    "    values='reviews_rating'\n",
    "\n",
    ").fillna(1)\n",
    "dummy_train.sample(3)"
   ]
  },
  {
   "cell_type": "markdown",
   "metadata": {
    "id": "CSaJRIVdq6Ou"
   },
   "source": [
    "**Cosine Similarity**\n",
    "\n",
    "Cosine Similarity is a measurement that quantifies the similarity between two vectors [Which is Rating Vector in this case]\n",
    "\n",
    "**Adjusted Cosine**\n",
    "\n",
    "Adjusted cosine similarity is a modified version of vector-based similarity where we incorporate the fact that different users have different ratings schemes. In other words, some users might rate items highly in general, and others might give items lower ratings as a preference. To handle this nature from rating given by user , we subtract average ratings for each user from each user's rating for different movies.\n",
    "\n"
   ]
  },
  {
   "cell_type": "code",
   "execution_count": 14,
   "metadata": {
    "executionInfo": {
     "elapsed": 10,
     "status": "ok",
     "timestamp": 1737619650715,
     "user": {
      "displayName": "sayak bhattacharjee",
      "userId": "03868719646604840788"
     },
     "user_tz": -330
    },
    "id": "zRyJm2FYq6Ov"
   },
   "outputs": [],
   "source": [
    "# Use adjusted cosimilarity to calculate the similarity between the users\n",
    "from sklearn.metrics import pairwise_distances\n",
    "from scipy.spatial.distance import cosine, correlation\n",
    "\n"
   ]
  },
  {
   "cell_type": "code",
   "execution_count": 15,
   "metadata": {
    "executionInfo": {
     "elapsed": 542,
     "status": "ok",
     "timestamp": 1737619651248,
     "user": {
      "displayName": "sayak bhattacharjee",
      "userId": "03868719646604840788"
     },
     "user_tz": -330
    },
    "id": "sZpSDUxZq6Ow"
   },
   "outputs": [],
   "source": [
    "# Create user product matrix\n",
    "\n",
    "df_pivot = train.pivot_table(\n",
    "    index='reviews_username',\n",
    "    columns='id',\n",
    "    values='reviews_rating'\n",
    ")"
   ]
  },
  {
   "cell_type": "code",
   "execution_count": null,
   "metadata": {
    "colab": {
     "base_uri": "https://localhost:8080/",
     "height": 489
    },
    "executionInfo": {
     "elapsed": 17,
     "status": "ok",
     "timestamp": 1737619651248,
     "user": {
      "displayName": "sayak bhattacharjee",
      "userId": "03868719646604840788"
     },
     "user_tz": -330
    },
    "id": "S1gknz99q6Ox",
    "outputId": "cbe1ee5a-c8c6-497a-a0da-838519ed8dc7"
   },
   "outputs": [],
   "source": [
    "df_pivot.iloc[0].sort_values(ascending=False)"
   ]
  },
  {
   "cell_type": "code",
   "execution_count": null,
   "metadata": {
    "colab": {
     "base_uri": "https://localhost:8080/",
     "height": 259
    },
    "executionInfo": {
     "elapsed": 15,
     "status": "ok",
     "timestamp": 1737619651248,
     "user": {
      "displayName": "sayak bhattacharjee",
      "userId": "03868719646604840788"
     },
     "user_tz": -330
    },
    "id": "q8BMx1m9q6Oy",
    "outputId": "7fb8c07b-5f41-4db4-c22f-f0a06f03806d"
   },
   "outputs": [],
   "source": [
    "# Normalising the rating of the product for each user around 0 mean\n",
    "mean = np.nanmean(df_pivot, axis=1)\n",
    "df_subtracted = (df_pivot.T-mean).T\n",
    "\n",
    "df_subtracted.sample(3)"
   ]
  },
  {
   "cell_type": "code",
   "execution_count": null,
   "metadata": {
    "colab": {
     "base_uri": "https://localhost:8080/"
    },
    "executionInfo": {
     "elapsed": 12350,
     "status": "ok",
     "timestamp": 1737619663586,
     "user": {
      "displayName": "sayak bhattacharjee",
      "userId": "03868719646604840788"
     },
     "user_tz": -330
    },
    "id": "jobhKM6tq6Oz",
    "outputId": "ca0399bc-60a3-4e73-b37d-0b0238f75b1e"
   },
   "outputs": [],
   "source": [
    "# Calculate the cosine similarity between the users on df_subtracted\n",
    "user_correlation = 1 - pairwise_distances(df_subtracted.fillna(0), metric='cosine')\n",
    "user_correlation[np.isnan(user_correlation)] = 0\n",
    "user_correlation"
   ]
  },
  {
   "cell_type": "markdown",
   "metadata": {
    "id": "M77vhPInq6O0"
   },
   "source": [
    "#### Prediction User User\n",
    "\n",
    "Perform prediction based on the corelation matrix"
   ]
  },
  {
   "cell_type": "code",
   "execution_count": null,
   "metadata": {
    "colab": {
     "base_uri": "https://localhost:8080/"
    },
    "executionInfo": {
     "elapsed": 404,
     "status": "ok",
     "timestamp": 1737619663978,
     "user": {
      "displayName": "sayak bhattacharjee",
      "userId": "03868719646604840788"
     },
     "user_tz": -330
    },
    "id": "Sk4R3C-mq6O1",
    "outputId": "f125cf59-c7af-4a99-e3f0-31de11b16f0b"
   },
   "outputs": [],
   "source": [
    "# Prediction of the ratings based on the user correlation , only cosiders the positive correlation\n",
    "\n",
    "user_correlation[user_correlation<0]=0\n",
    "user_correlation.shape"
   ]
  },
  {
   "cell_type": "code",
   "execution_count": null,
   "metadata": {
    "colab": {
     "base_uri": "https://localhost:8080/"
    },
    "executionInfo": {
     "elapsed": 6282,
     "status": "ok",
     "timestamp": 1737619670257,
     "user": {
      "displayName": "sayak bhattacharjee",
      "userId": "03868719646604840788"
     },
     "user_tz": -330
    },
    "id": "ZR28EoeYq6O2",
    "outputId": "d64ff939-9a32-4325-87bc-e95d962f1564"
   },
   "outputs": [],
   "source": [
    "# Now we have 2 metrices, one is the postive correlation between users and the other is the user product matrix\n",
    "# We will use these 2 metrices to predict the ratings\n",
    "# If we perform a dot product between these 2 metrices, we will get the predicted ratings for the products\n",
    "\n",
    "user_predicted_ratings = np.dot(user_correlation, df_pivot.fillna(0))\n",
    "user_predicted_ratings"
   ]
  },
  {
   "cell_type": "code",
   "execution_count": null,
   "metadata": {
    "colab": {
     "base_uri": "https://localhost:8080/"
    },
    "executionInfo": {
     "elapsed": 44,
     "status": "ok",
     "timestamp": 1737619670258,
     "user": {
      "displayName": "sayak bhattacharjee",
      "userId": "03868719646604840788"
     },
     "user_tz": -330
    },
    "id": "-h_pGpZ0q6O2",
    "outputId": "09f179a9-7504-4b29-ff05-e3d4156fdfb3"
   },
   "outputs": [],
   "source": [
    "user_predicted_ratings.shape"
   ]
  },
  {
   "cell_type": "code",
   "execution_count": null,
   "metadata": {
    "colab": {
     "base_uri": "https://localhost:8080/",
     "height": 321
    },
    "executionInfo": {
     "elapsed": 41,
     "status": "ok",
     "timestamp": 1737619670259,
     "user": {
      "displayName": "sayak bhattacharjee",
      "userId": "03868719646604840788"
     },
     "user_tz": -330
    },
    "id": "REr2i20wq6O3",
    "outputId": "c1319619-1d43-45ca-d333-a39295fa7daa"
   },
   "outputs": [],
   "source": [
    "# user_predicted_ratings is the predicted ratings for the products by the users based on the user correlation\n",
    "# But we need to consider only the products which are not rated by the user\n",
    "# So we will multiply the predicted ratings with the dummy_train matrix\n",
    "\n",
    "user_final_rating = np.multiply(user_predicted_ratings,dummy_train)\n",
    "user_final_rating.head()"
   ]
  },
  {
   "cell_type": "markdown",
   "metadata": {
    "id": "ScTeKSmeq6O4"
   },
   "source": [
    "#### Finding the Top 20 products that a user is most likely to purchase based on the ratings (user-user based recommendation)\n"
   ]
  },
  {
   "cell_type": "code",
   "execution_count": null,
   "metadata": {
    "colab": {
     "base_uri": "https://localhost:8080/",
     "height": 676
    },
    "executionInfo": {
     "elapsed": 39,
     "status": "ok",
     "timestamp": 1737619670259,
     "user": {
      "displayName": "sayak bhattacharjee",
      "userId": "03868719646604840788"
     },
     "user_tz": -330
    },
    "id": "0c0rDgDiq6O4",
    "outputId": "afd8e68f-3e7f-46f4-f32e-56195fe1be8a"
   },
   "outputs": [],
   "source": [
    "# Top 20 products for a random  reviews_username\n",
    "\n",
    "\n",
    "\n",
    "top20_recommendation = user_final_rating.iloc[23].sort_values(ascending=False).head(20)\n",
    "\n",
    "# Merge the top 20 products with the original dataset to get the product names\n",
    "top20_recommendation = pd.merge(top20_recommendation, review_reco[['id', 'name']], on='id', how='left')\n",
    "top20_recommendation.drop_duplicates(subset='id', keep='first', inplace=True)\n",
    "top20_recommendation\n"
   ]
  },
  {
   "cell_type": "markdown",
   "metadata": {
    "id": "r_BfCibfq6O5"
   },
   "source": [
    "#### Evaluation - user iser recommendation\n",
    "\n",
    "Here we will use the products already rated by the user"
   ]
  },
  {
   "cell_type": "code",
   "execution_count": null,
   "metadata": {
    "colab": {
     "base_uri": "https://localhost:8080/"
    },
    "executionInfo": {
     "elapsed": 37,
     "status": "ok",
     "timestamp": 1737619670260,
     "user": {
      "displayName": "sayak bhattacharjee",
      "userId": "03868719646604840788"
     },
     "user_tz": -330
    },
    "id": "jaaBaC7fq6O5",
    "outputId": "554e0b2c-ae07-47e1-bda1-37f0212c2a83"
   },
   "outputs": [],
   "source": [
    "# Commmon users in train and test dataset\n",
    "common = test[test.reviews_username.isin(train.reviews_username)]\n",
    "common.shape"
   ]
  },
  {
   "cell_type": "code",
   "execution_count": 25,
   "metadata": {
    "executionInfo": {
     "elapsed": 35,
     "status": "ok",
     "timestamp": 1737619670261,
     "user": {
      "displayName": "sayak bhattacharjee",
      "userId": "03868719646604840788"
     },
     "user_tz": -330
    },
    "id": "abWh1Ef4q6O6"
   },
   "outputs": [],
   "source": [
    "# Convert the common users into matrix format\n",
    "common_user_based_matrix = common.pivot_table(index='reviews_username', columns='id', values='reviews_rating')"
   ]
  },
  {
   "cell_type": "code",
   "execution_count": null,
   "metadata": {
    "colab": {
     "base_uri": "https://localhost:8080/",
     "height": 321
    },
    "executionInfo": {
     "elapsed": 35,
     "status": "ok",
     "timestamp": 1737619670261,
     "user": {
      "displayName": "sayak bhattacharjee",
      "userId": "03868719646604840788"
     },
     "user_tz": -330
    },
    "id": "EaTeGll7q6O7",
    "outputId": "03f88fd3-622e-4699-9e2a-b76bb0de0a92"
   },
   "outputs": [],
   "source": [
    "common_user_based_matrix.head()"
   ]
  },
  {
   "cell_type": "code",
   "execution_count": null,
   "metadata": {
    "colab": {
     "base_uri": "https://localhost:8080/",
     "height": 235
    },
    "executionInfo": {
     "elapsed": 33,
     "status": "ok",
     "timestamp": 1737619670261,
     "user": {
      "displayName": "sayak bhattacharjee",
      "userId": "03868719646604840788"
     },
     "user_tz": -330
    },
    "id": "L2zDyWkJq6O8",
    "outputId": "b8d4f9a4-74d8-4b9b-ad14-99c4fb4d80f5"
   },
   "outputs": [],
   "source": [
    "# user_correlation as data frame\n",
    "\n",
    "user_correlation_df = pd.DataFrame(user_correlation)\n",
    "user_correlation_df.head()"
   ]
  },
  {
   "cell_type": "code",
   "execution_count": null,
   "metadata": {
    "colab": {
     "base_uri": "https://localhost:8080/",
     "height": 267
    },
    "executionInfo": {
     "elapsed": 967,
     "status": "ok",
     "timestamp": 1737619671197,
     "user": {
      "displayName": "sayak bhattacharjee",
      "userId": "03868719646604840788"
     },
     "user_tz": -330
    },
    "id": "FWW4fI5Mq6O8",
    "outputId": "c61c7c8e-d974-4e27-8f98-446efa1628e9"
   },
   "outputs": [],
   "source": [
    "# Replace the ids with user name to get the user correlation for the common users\n",
    "user_correlation_df['reviews_username'] = df_pivot.index\n",
    "user_correlation_df.set_index('reviews_username', inplace=True)\n",
    "user_correlation_df.head()\n"
   ]
  },
  {
   "cell_type": "code",
   "execution_count": null,
   "metadata": {
    "colab": {
     "base_uri": "https://localhost:8080/",
     "height": 187
    },
    "executionInfo": {
     "elapsed": 46,
     "status": "ok",
     "timestamp": 1737619671197,
     "user": {
      "displayName": "sayak bhattacharjee",
      "userId": "03868719646604840788"
     },
     "user_tz": -330
    },
    "id": "I4Pspyzdq6O9",
    "outputId": "a733f1a7-090e-4b64-b8d0-3a597888beb2"
   },
   "outputs": [],
   "source": [
    "# now replace the ids with user name in the common user based matrix\n",
    "\n",
    "user_correlation_df.columns = df_pivot.index.tolist()\n",
    "user_correlation_df.head"
   ]
  },
  {
   "cell_type": "code",
   "execution_count": 30,
   "metadata": {
    "executionInfo": {
     "elapsed": 44,
     "status": "ok",
     "timestamp": 1737619671197,
     "user": {
      "displayName": "sayak bhattacharjee",
      "userId": "03868719646604840788"
     },
     "user_tz": -330
    },
    "id": "XQVj0SRTq6O9"
   },
   "outputs": [],
   "source": [
    "common_user_names = common.reviews_username.tolist()"
   ]
  },
  {
   "cell_type": "code",
   "execution_count": null,
   "metadata": {
    "colab": {
     "base_uri": "https://localhost:8080/"
    },
    "executionInfo": {
     "elapsed": 43,
     "status": "ok",
     "timestamp": 1737619671197,
     "user": {
      "displayName": "sayak bhattacharjee",
      "userId": "03868719646604840788"
     },
     "user_tz": -330
    },
    "id": "UDTibbiaq6O-",
    "outputId": "fa9fa24f-0deb-4226-9fb7-902ed00d6a96"
   },
   "outputs": [],
   "source": [
    "# Get the user correlation for the common users\n",
    "common_user_correlation_df = user_correlation_df[user_correlation_df.index.isin(common_user_names)]\n",
    "common_user_correlation_df.shape\n"
   ]
  },
  {
   "cell_type": "code",
   "execution_count": null,
   "metadata": {
    "colab": {
     "base_uri": "https://localhost:8080/",
     "height": 267
    },
    "executionInfo": {
     "elapsed": 39,
     "status": "ok",
     "timestamp": 1737619671198,
     "user": {
      "displayName": "sayak bhattacharjee",
      "userId": "03868719646604840788"
     },
     "user_tz": -330
    },
    "id": "PeWAIbcIq6O-",
    "outputId": "c16b9eac-e3e4-402e-f90b-d39496e4be9f"
   },
   "outputs": [],
   "source": [
    "common_user_correlation_df1 = common_user_correlation_df.T[common_user_correlation_df.T.index.isin(common_user_names)]\n",
    "common_user_correlation_df2 = common_user_correlation_df1.T\n",
    "common_user_correlation_df2.head()"
   ]
  },
  {
   "cell_type": "code",
   "execution_count": null,
   "metadata": {
    "colab": {
     "base_uri": "https://localhost:8080/"
    },
    "executionInfo": {
     "elapsed": 34,
     "status": "ok",
     "timestamp": 1737619671198,
     "user": {
      "displayName": "sayak bhattacharjee",
      "userId": "03868719646604840788"
     },
     "user_tz": -330
    },
    "id": "THbcpWlkq6O_",
    "outputId": "d0eeee14-bc4e-48d2-9a2c-92c9e62257b3"
   },
   "outputs": [],
   "source": [
    "common_user_correlation_df2.shape"
   ]
  },
  {
   "cell_type": "code",
   "execution_count": 34,
   "metadata": {
    "executionInfo": {
     "elapsed": 30,
     "status": "ok",
     "timestamp": 1737619671198,
     "user": {
      "displayName": "sayak bhattacharjee",
      "userId": "03868719646604840788"
     },
     "user_tz": -330
    },
    "id": "sQLVjSrbq6O_"
   },
   "outputs": [],
   "source": [
    "# common_user_based_matrix - replace the NAN values with 0\n",
    "common_user_based_matrix.fillna(0, inplace=True)\n",
    "\n"
   ]
  },
  {
   "cell_type": "code",
   "execution_count": null,
   "metadata": {
    "colab": {
     "base_uri": "https://localhost:8080/"
    },
    "executionInfo": {
     "elapsed": 29,
     "status": "ok",
     "timestamp": 1737619671198,
     "user": {
      "displayName": "sayak bhattacharjee",
      "userId": "03868719646604840788"
     },
     "user_tz": -330
    },
    "id": "ifEU_hOHq6O_",
    "outputId": "b9315307-0c13-41ca-ecc2-508163b16815"
   },
   "outputs": [],
   "source": [
    "# Now we will multiply the common user based matrix with the user correlation for the common users\n",
    "# This will give us the predicted ratings for the products by the common users\n",
    "\n",
    "common_user_correlation_df2[common_user_correlation_df2<0] = 0\n",
    "common_user_rating =  np.dot(common_user_correlation_df2,common_user_based_matrix.fillna(0))\n",
    "common_user_rating"
   ]
  },
  {
   "cell_type": "code",
   "execution_count": null,
   "metadata": {
    "colab": {
     "base_uri": "https://localhost:8080/",
     "height": 648
    },
    "executionInfo": {
     "elapsed": 26,
     "status": "ok",
     "timestamp": 1737619671198,
     "user": {
      "displayName": "sayak bhattacharjee",
      "userId": "03868719646604840788"
     },
     "user_tz": -330
    },
    "id": "Q-qqraIPq6PL",
    "outputId": "ba9b48ff-ccba-48a3-a357-5b641cfa9826"
   },
   "outputs": [],
   "source": [
    "dummy_test = common.copy()\n",
    "dummy_test['reviews_rating'] =dummy_test['reviews_rating'].apply(lambda x: 1 if x>=1 else 0)\n",
    "dummy_test = pd.pivot_table(index='reviews_username',\n",
    "                            columns='name',\n",
    "                            values='reviews_rating',data=dummy_test).fillna(0)\n",
    "dummy_test"
   ]
  },
  {
   "cell_type": "code",
   "execution_count": null,
   "metadata": {
    "colab": {
     "base_uri": "https://localhost:8080/",
     "height": 648
    },
    "executionInfo": {
     "elapsed": 22,
     "status": "ok",
     "timestamp": 1737619671198,
     "user": {
      "displayName": "sayak bhattacharjee",
      "userId": "03868719646604840788"
     },
     "user_tz": -330
    },
    "id": "yM7cN-YOq6PL",
    "outputId": "0a68d08d-e174-4025-db83-cca159ab50b1"
   },
   "outputs": [],
   "source": [
    "common_user_pred_ratings =  np.multiply(common_user_rating,dummy_test)\n",
    "common_user_pred_ratings"
   ]
  },
  {
   "cell_type": "markdown",
   "metadata": {
    "id": "UM_TTkYWq6PL"
   },
   "source": [
    "Calculating the RMSE for only the products rated by user.\n",
    "\n",
    "For RMSE, normalising the rating to (1,5) range."
   ]
  },
  {
   "cell_type": "code",
   "execution_count": null,
   "metadata": {
    "colab": {
     "base_uri": "https://localhost:8080/"
    },
    "executionInfo": {
     "elapsed": 19,
     "status": "ok",
     "timestamp": 1737619671198,
     "user": {
      "displayName": "sayak bhattacharjee",
      "userId": "03868719646604840788"
     },
     "user_tz": -330
    },
    "id": "gVVdsTvqq6PM",
    "outputId": "7d6b6d53-8a65-469b-cd28-baedf4c3b8b7"
   },
   "outputs": [],
   "source": [
    "from sklearn.preprocessing import MinMaxScaler\n",
    "\n",
    "\n",
    "X  = common_user_pred_ratings.copy()\n",
    "X = X[X>0]\n",
    "\n",
    "scaler = MinMaxScaler(feature_range=(1, 5))\n",
    "print(scaler.fit(X))\n",
    "y = (scaler.transform(X))\n",
    "\n",
    "print(y)"
   ]
  },
  {
   "cell_type": "code",
   "execution_count": 39,
   "metadata": {
    "executionInfo": {
     "elapsed": 16,
     "status": "ok",
     "timestamp": 1737619671198,
     "user": {
      "displayName": "sayak bhattacharjee",
      "userId": "03868719646604840788"
     },
     "user_tz": -330
    },
    "id": "DfnZATdVq6PM"
   },
   "outputs": [],
   "source": [
    "common_ = common.pivot_table(index='reviews_username', columns='id', values='reviews_rating')\n"
   ]
  },
  {
   "cell_type": "code",
   "execution_count": 40,
   "metadata": {
    "executionInfo": {
     "elapsed": 17,
     "status": "ok",
     "timestamp": 1737619671199,
     "user": {
      "displayName": "sayak bhattacharjee",
      "userId": "03868719646604840788"
     },
     "user_tz": -330
    },
    "id": "99jpVNIkq6PM"
   },
   "outputs": [],
   "source": [
    "# Finding total non-NaN value\n",
    "total_non_nan = np.count_nonzero(~np.isnan(y))"
   ]
  },
  {
   "cell_type": "code",
   "execution_count": null,
   "metadata": {
    "colab": {
     "base_uri": "https://localhost:8080/"
    },
    "executionInfo": {
     "elapsed": 9,
     "status": "ok",
     "timestamp": 1737619671712,
     "user": {
      "displayName": "sayak bhattacharjee",
      "userId": "03868719646604840788"
     },
     "user_tz": -330
    },
    "id": "GmAIYRRFq6PN",
    "outputId": "1ce5729a-0077-4fa3-980f-3a8cd9d2f24f"
   },
   "outputs": [],
   "source": [
    "from numpy import *\n",
    "\n",
    "rmse = (sum(sum((common_ - y )**2))/total_non_nan)**0.5\n",
    "print(rmse)"
   ]
  },
  {
   "cell_type": "code",
   "execution_count": 42,
   "metadata": {
    "executionInfo": {
     "elapsed": 7,
     "status": "ok",
     "timestamp": 1737619671713,
     "user": {
      "displayName": "sayak bhattacharjee",
      "userId": "03868719646604840788"
     },
     "user_tz": -330
    },
    "id": "2xG71LCVq6PN"
   },
   "outputs": [],
   "source": [
    "# We must store the model uisng pickle\n",
    "import pickle\n",
    "filename = '/content/drive/MyDrive/Recommendation System Project/Pickle/user_user_recommendation_model.sav'\n",
    "pickle.dump(user_final_rating, open(filename, 'wb'))\n",
    "\n"
   ]
  },
  {
   "cell_type": "markdown",
   "metadata": {
    "id": "z_KViH7gV6mW"
   },
   "source": [
    "### Fine-Tuning the Recommendation System and Recommendation of Top 5 Products\n",
    "---\n",
    "Predicted the sentiment (positive or negative) of all the reviews in the train data set of the top 20 recommended products for a user. For each of the 20 products recommended, found the percentage of positive sentiments for all the reviews of each product. Filtered out the top 5 products with the highest percentage of positive reviews"
   ]
  },
  {
   "cell_type": "code",
   "execution_count": 42,
   "metadata": {
    "executionInfo": {
     "elapsed": 7,
     "status": "ok",
     "timestamp": 1737619671713,
     "user": {
      "displayName": "sayak bhattacharjee",
      "userId": "03868719646604840788"
     },
     "user_tz": -330
    },
    "id": "JPyLiPTDq6PN"
   },
   "outputs": [],
   "source": []
  }
 ],
 "metadata": {
  "colab": {
   "provenance": []
  },
  "kernelspec": {
   "display_name": "base",
   "language": "python",
   "name": "python3"
  },
  "language_info": {
   "codemirror_mode": {
    "name": "ipython",
    "version": 3
   },
   "file_extension": ".py",
   "mimetype": "text/x-python",
   "name": "python",
   "nbconvert_exporter": "python",
   "pygments_lexer": "ipython3",
   "version": "3.11.5"
  }
 },
 "nbformat": 4,
 "nbformat_minor": 0
}
